{
 "cells": [
  {
   "cell_type": "markdown",
   "metadata": {},
   "source": [
    "# Imports\n",
    "\n",
    "Unable to obtain the Attention and SelfAttention layers"
   ]
  },
  {
   "cell_type": "code",
   "execution_count": 1,
   "metadata": {},
   "outputs": [],
   "source": [
    "import numpy as np\n",
    "from sklearn.metrics import accuracy_score, recall_score, f1_score, roc_curve, auc, confusion_matrix\n",
    "from sklearn.model_selection import train_test_split\n",
    "import scipy.stats as st\n",
    "import sys\n",
    "import os\n",
    "import random\n",
    "import tensorflow as tf\n",
    "from tensorflow.keras.callbacks import EarlyStopping, ModelCheckpoint, LearningRateScheduler, ReduceLROnPlateau\n",
    "from tensorflow.keras.models import Sequential, Model\n",
    "from tensorflow.keras.layers import Dense, LSTM, GRU, SimpleRNN, Dropout, Conv2D, Lambda, Input, Bidirectional, Flatten\n",
    "from tensorflow.keras import optimizers, backend as K\n",
    "# from layers import Attention, SelfAttention"
   ]
  },
  {
   "cell_type": "code",
   "execution_count": 2,
   "metadata": {},
   "outputs": [
    {
     "name": "stdout",
     "output_type": "stream",
     "text": [
      "2.16.1\n"
     ]
    }
   ],
   "source": [
    "print(tf.__version__)"
   ]
  },
  {
   "cell_type": "markdown",
   "metadata": {},
   "source": [
    "# TensorFlow session settings, specifically focusing on thread management"
   ]
  },
  {
   "cell_type": "code",
   "execution_count": 3,
   "metadata": {},
   "outputs": [],
   "source": [
    "#session_conf = tf.ConfigProto(intra_op_parallelism_threads=1, inter_op_parallelism_threads=1)\n",
    "# os.environ[\"CUDA_DEVICE_ORDER\"]= \"PCI_BUS_ID\"\n",
    "# os.environ[\"CUDA_VISIBLE_DEVICES\"]= '1'\n",
    "# os.environ['TF_CPP_MIN_LOG_LEVEL'] = '3'\n",
    "# sess = tf.Session(graph=tf.get_default_graph(), config=session_conf)\n",
    "# K.set_session(sess)"
   ]
  },
  {
   "cell_type": "markdown",
   "metadata": {},
   "source": [
    "# Model architecture\n",
    "\n",
    "This model architecture is designed to process sequential data with both convolutional and recurrent layers, leveraging the strength of CNNs in capturing local patterns and the strength of LSTMs in capturing long-term dependencies. The dropout layer helps in regularization, and the final dense layer with softmax activation provides the classification output."
   ]
  },
  {
   "cell_type": "code",
   "execution_count": 4,
   "metadata": {},
   "outputs": [],
   "source": [
    "def model(x_train, num_labels, LSTM_units, dropout, num_conv_filters, batch_size):\n",
    "    \"\"\"\n",
    "    x_train: A sample input used to determine the input shape for the model.\n",
    "    num_labels: The number of classes or output labels. This determines the number of neurons in the final dense layer.\n",
    "    LSTM_units: The number of units in the LSTM layer, which controls the capacity of the LSTM to learn long-term dependencies.\n",
    "    dropout: The dropout rate, which helps in regularization to prevent overfitting.\n",
    "    num_conv_filters: The number of convolutional filters, which determine how many different patterns the CNN layer will learn.\n",
    "    batch_size: The number of samples processed at a time during training. This is used to set the shape of the input layer.\n",
    "    \"\"\"\n",
    "\n",
    "    \"\"\"\n",
    "    Baseline model with a CNN layer and LSTM RNN layer.\n",
    "    Inputs:\n",
    "    - x_train: required for creating input shape for RNN layer in Keras\n",
    "    - num_labels: number of output classes (int)\n",
    "    - LSTM_units: number of RNN units (int)\n",
    "    - dropout: dropout rate (float)\n",
    "    - num_conv_filters: number of CNN filters (int)\n",
    "    - batch_size: number of samples to be processed in each batch\n",
    "    Returns\n",
    "    - model: A Keras model\n",
    "    \"\"\"\n",
    "    cnn_inputs = Input(batch_shape=(batch_size, x_train.shape[1], x_train.shape[2], 1), name='rnn_inputs')\n",
    "    \"\"\"\n",
    "    Input: Defines the input shape for the model.\n",
    "    batch_shape: The shape is (batch_size, time_steps, features, 1). Here, time_steps could be the number of time steps in a \n",
    "    time series or the number of words in a sequence, and features is the dimensionality of the features at each time step.\n",
    "    The last dimension, 1, indicates a single channel, which is typical for monochromatic data (e.g., grayscale images or \n",
    "    single-feature sequences).\n",
    "    \"\"\"\n",
    "    cnn_layer = Conv2D(num_conv_filters, kernel_size = (1, x_train.shape[2]), strides=(1, 1), padding='valid', data_format=\"channels_last\")\n",
    "    cnn_out = cnn_layer(cnn_inputs)\n",
    "    \"\"\"\n",
    "    Conv2D: Applies a 2D convolution over the input.\n",
    "    num_conv_filters: The number of filters (kernels) used, which also determines the output's depth.\n",
    "    kernel_size: (1, x_train.shape[2]) means each filter is of height 1 and spans all features in width, \n",
    "    effectively capturing patterns across the full feature set at each time step.\n",
    "    strides: The filter moves 1 step at a time in both directions.\n",
    "    padding='valid': No padding, so the output size is reduced compared to the input size.\n",
    "    data_format=\"channels_last\": Specifies that the channel dimension is the last dimension in the input shape.\n",
    "    \"\"\"\n",
    "\n",
    "    sq_layer = Lambda(lambda x: K.squeeze(x, axis = 2))\n",
    "    sq_layer_out = sq_layer(cnn_out)\n",
    "    \"\"\"\n",
    "    Lambda: A layer that wraps a custom operation, here it uses K.squeeze.\n",
    "    K.squeeze: Removes the dimension with index 2, which is the height dimension in the CNN output that has been reduced to 1. \n",
    "    The result is that the data is reshaped from (batch_size, time_steps, 1, num_filters) to (batch_size, time_steps, num_filters).\n",
    "    \"\"\"\n",
    "\n",
    "    rnn_layer = LSTM(LSTM_units, return_sequences=False, name='lstm') #return_state=True\n",
    "    rnn_layer_output = rnn_layer(sq_layer_out)\n",
    "    \"\"\"\n",
    "    LSTM: A type of recurrent neural network (RNN) layer that can capture temporal dependencies.\n",
    "    LSTM_units: Number of LSTM cells, which controls the capacity of the LSTM to learn features.\n",
    "    return_sequences=False: The LSTM returns only the last output in the output sequence. If True, \n",
    "    it would return the full sequence.\n",
    "    This layer processes the squeezed output from the CNN, adding the capability to learn sequential patterns and dependencies.\n",
    "    \"\"\"\n",
    "\n",
    "    dropout_layer = Dropout(rate = dropout)\n",
    "    dropout_layer_output = dropout_layer(rnn_layer_output)\n",
    "    \"\"\"\n",
    "    Dropout: A regularization technique where a fraction of neurons is randomly set to zero during training to prevent overfitting.\n",
    "    rate=dropout: Specifies the dropout rate, i.e., the fraction of input units to drop.\n",
    "    \"\"\"\n",
    "\n",
    "    dense_layer = Dense(num_labels, activation = 'softmax')\n",
    "    dense_layer_output = dense_layer(dropout_layer_output)\n",
    "    \"\"\"\n",
    "    Dense: A fully connected layer where each input is connected to each output.\n",
    "    num_labels: The number of output neurons, which corresponds to the number of classes in a classification task.\n",
    "    activation='softmax': The softmax activation function is used for multi-class classification. It outputs a \n",
    "    probability distribution over the classes.\n",
    "    \"\"\"\n",
    "\n",
    "    model = Model(inputs=cnn_inputs, outputs=dense_layer_output)\n",
    "    print (model.summary())\n",
    "    \"\"\"\n",
    "    Model: Combines the input and output layers into a Keras model.\n",
    "    inputs: The starting point of the model, defined by cnn_inputs.\n",
    "    outputs: The endpoint of the model, defined by dense_layer_output.\n",
    "    model.summary(): Prints a summary of the model architecture, including the number of parameters in each layer and the \n",
    "    total number of parameters.\n",
    "    \"\"\"\n",
    "\n",
    "    return model"
   ]
  },
  {
   "cell_type": "markdown",
   "metadata": {},
   "source": [
    "# Hyperparameters and Configurations\n",
    "\n",
    "| **Parameter**   | **Description**                                                                                             |\n",
    "|-----------------|-------------------------------------------------------------------------------------------------------------|\n",
    "| **EPOCH**       | Specifies how many times the entire dataset is passed through the model during training to allow the model to learn from the data. |\n",
    "| **BATCH_SIZE**  | Defines the number of samples processed before the model’s weights are updated, balancing training efficiency and stability. |\n",
    "| **LSTM_UNITS**  | Sets the number of units in the LSTM layer, influencing the model's capacity to learn temporal dependencies. |\n",
    "| **CNN_FILTERS** | Determines the number of convolutional filters in the CNN layer, affecting the range of features detected from the input data. |\n",
    "| **LEARNING_RATE** | Controls the step size for weight adjustments during optimization, impacting the convergence speed and stability of training. |\n",
    "| **PATIENCE**    | Specifies the number of epochs to wait before stopping training if no improvement in validation performance is observed, helping prevent overfitting. |\n",
    "| **SEED**        | Sets the random seed to ensure that the results of training are reproducible across different runs. |\n",
    "| **DROPOUT**     | Indicates the fraction of input units to be randomly dropped during training, used for regularization to prevent overfitting. |\n"
   ]
  },
  {
   "cell_type": "code",
   "execution_count": 5,
   "metadata": {},
   "outputs": [],
   "source": [
    "EPOCH = 10\n",
    "BATCH_SIZE = 16\n",
    "LSTM_UNITS = 32 \n",
    "CNN_FILTERS = 3\n",
    "LEARNING_RATE = 0.001\n",
    "PATIENCE = 20\n",
    "SEED = 0\n",
    "DROPOUT = 0.1"
   ]
  },
  {
   "cell_type": "markdown",
   "metadata": {},
   "source": [
    "## Reproducability"
   ]
  },
  {
   "cell_type": "code",
   "execution_count": 6,
   "metadata": {},
   "outputs": [],
   "source": [
    "SEED = 0 \n",
    "random.seed(SEED)\n",
    "np.random.seed(SEED)\n",
    "tf.random.set_seed(SEED)"
   ]
  },
  {
   "cell_type": "markdown",
   "metadata": {},
   "source": [
    "# Save configs"
   ]
  },
  {
   "cell_type": "markdown",
   "metadata": {},
   "source": [
    "### `BASE_DIR`\n",
    "\n",
    "Constructs a directory path by concatenating `'./data/'` with the value of `MODE`, resulting in a path like `'./data/LOTO/'`. This directory is likely where the data files are stored.\n",
    "\n",
    "### `SAVE_DIR`\n",
    "\n",
    "Constructs a directory path for saving model results by concatenating `'./model_baseline_'` with the value of `MODE`, and appending `'_results'`. This will create a path like `'./model_baseline_LOTO_results'`, where the results of the model will be saved.\n"
   ]
  },
  {
   "cell_type": "code",
   "execution_count": 7,
   "metadata": {},
   "outputs": [],
   "source": [
    "# DATA_FILES = [ 'WISDM.npz' ]\n",
    "# MODE = 'LOTO'\n",
    "# BASE_DIR = r'D:\\00 Work folder Dissertation\\01 Code trials\\04 ConvLSTM code study\\encodingHumanActivity\\data\\LOTO'\n",
    "# SAVE_DIR = './model_baseline_' + MODE + '_results'"
   ]
  },
  {
   "cell_type": "markdown",
   "metadata": {},
   "source": [
    "# Loading the NPZ file\n",
    "\n",
    "It's a special type of dictionary-like object in NumPy that contains the arrays saved in the file.\n"
   ]
  },
  {
   "cell_type": "code",
   "execution_count": 8,
   "metadata": {},
   "outputs": [],
   "source": [
    "data_input_file = r'D:\\00 Work folder Dissertation\\01 Code trials\\04 ConvLSTM code study\\encodingHumanActivity\\data\\LOTO\\WISDM.npz'\n",
    "tmp = np.load(data_input_file, allow_pickle=True)"
   ]
  },
  {
   "cell_type": "code",
   "execution_count": 9,
   "metadata": {},
   "outputs": [
    {
     "name": "stdout",
     "output_type": "stream",
     "text": [
      "KeysView(NpzFile 'D:\\\\00 Work folder Dissertation\\\\01 Code trials\\\\04 ConvLSTM code study\\\\encodingHumanActivity\\\\data\\\\LOTO\\\\WISDM.npz' with keys: y, X, folds)\n",
      "Shape of X: (20846, 1, 100, 3)\n",
      "Shape of y: (20846, 6)\n",
      "Shape of folds: (10, 2)\n"
     ]
    }
   ],
   "source": [
    "keys = tmp.keys()\n",
    "print(keys)\n",
    "\n",
    "# Retrieve arrays using the keys\n",
    "X = tmp['X']        # Typically features or input data\n",
    "y_one_hot = tmp['y'] # Typically labels or target values\n",
    "folds = tmp['folds'] # Potentially cross-validation folds or data splits\n",
    "\n",
    "# Print shapes or inspect the arrays\n",
    "print(\"Shape of X:\", X.shape)\n",
    "print(\"Shape of y:\", y_one_hot.shape)\n",
    "print(\"Shape of folds:\", folds.shape)"
   ]
  },
  {
   "cell_type": "markdown",
   "metadata": {},
   "source": [
    "## Shape of X\n",
    "Shape of X: (20846, 1, 100, 3) <br>\n",
    "**( Samples, Channels, Window size or steps, Number of features)**\n",
    "\n",
    "- 20846 Samples are present in the data X\n",
    "- Number of Channels/Sequences: In this context, it likely represents a single channel or sequence per sample. In many time-series or sequential datasets, this might be used to represent one time-series or sensor channel per sample.\n",
    "- 100 is the Window - Sequence Length/Time Steps: This dimension corresponds to the length of each sequence or time window in the dataset. It means each sample is represented by a sequence of 100 time steps or frames.\n",
    "- 3 is the Number of Features (x , y , z) values in each sample"
   ]
  },
  {
   "cell_type": "code",
   "execution_count": 10,
   "metadata": {},
   "outputs": [
    {
     "data": {
      "text/plain": [
       "(20846, 100, 3)"
      ]
     },
     "execution_count": 10,
     "metadata": {},
     "output_type": "execute_result"
    }
   ],
   "source": [
    "X = np.squeeze(X, axis = 1)\n",
    "X.shape"
   ]
  },
  {
   "cell_type": "markdown",
   "metadata": {},
   "source": [
    "The channels is removed here. Maybe because we only have one channel and this shape is preferable for the CNN model"
   ]
  },
  {
   "cell_type": "markdown",
   "metadata": {},
   "source": [
    "## Shape of y\n",
    "\n",
    "Shape of y: (20846, 6) <br>**(Number of samples, One hot encoded classes 6 of them)**"
   ]
  },
  {
   "cell_type": "code",
   "execution_count": 11,
   "metadata": {},
   "outputs": [
    {
     "name": "stdout",
     "output_type": "stream",
     "text": [
      "Number of classes: 6\n",
      "[[0. 0. 0. 0. 0. 1.]\n",
      " [0. 0. 0. 0. 1. 0.]\n",
      " [0. 0. 0. 1. 0. 0.]\n",
      " [0. 0. 1. 0. 0. 0.]\n",
      " [0. 1. 0. 0. 0. 0.]\n",
      " [1. 0. 0. 0. 0. 0.]]\n"
     ]
    }
   ],
   "source": [
    "# Assuming y is loaded as an array\n",
    "unique_labels = np.unique(y_one_hot, axis=0)\n",
    "\n",
    "# Number of unique class vectors (i.e., number of classes)\n",
    "NUM_LABELS = unique_labels.shape[0]\n",
    "\n",
    "print(\"Number of classes:\", NUM_LABELS)\n",
    "print(unique_labels)"
   ]
  },
  {
   "attachments": {
    "image.png": {
     "image/png": "[encoded data removed]"
    }
   },
   "cell_type": "markdown",
   "metadata": {},
   "source": [
    "## Shape of folds\n",
    "\n",
    "Shape of folds: (10, 2) <br>**(Number of folds, 2 arrays representing a single fold)**<br> First array gives the indices of the entire dataset, second array indicates to which index its mapped to. \n",
    "\n",
    "Maybe first array contains indices for train dataset, second contains test dataset.\n",
    "![image.png](attachment:image.png)"
   ]
  },
  {
   "cell_type": "code",
   "execution_count": 12,
   "metadata": {},
   "outputs": [
    {
     "name": "stdout",
     "output_type": "stream",
     "text": [
      "[array([    0,     1,     2, ..., 20843, 20844, 20845], dtype=int64)\n",
      " array([   17,    18,    19, ..., 19787, 19788, 19789], dtype=int64)]\n"
     ]
    }
   ],
   "source": [
    "print(folds[0])"
   ]
  },
  {
   "cell_type": "markdown",
   "metadata": {},
   "source": [
    "# Initializing metrics"
   ]
  },
  {
   "cell_type": "code",
   "execution_count": 13,
   "metadata": {},
   "outputs": [],
   "source": [
    "avg_acc = []\n",
    "avg_recall = []\n",
    "avg_f1 = []"
   ]
  },
  {
   "cell_type": "code",
   "execution_count": 16,
   "metadata": {},
   "outputs": [
    {
     "data": {
      "text/plain": [
       "(20846,)"
      ]
     },
     "execution_count": 16,
     "metadata": {},
     "output_type": "execute_result"
    }
   ],
   "source": [
    "early_stopping_epoch_list = []\n",
    "y = np.argmax(y_one_hot, axis=1) #this will return the index of the maximum value along each row\n",
    "y.shape #Basically y is not flattened into a one dimensional vector"
   ]
  },
  {
   "cell_type": "markdown",
   "metadata": {},
   "source": [
    "# Trial without cross validation"
   ]
  },
  {
   "cell_type": "code",
   "execution_count": 17,
   "metadata": {},
   "outputs": [],
   "source": [
    "# Train-test split\n",
    "X_train, X_test, y_train, y_test = train_test_split(X, y, test_size=0.2, random_state=SEED, stratify=y)\n",
    "y_train_one_hot = np.eye(NUM_LABELS)[y_train]\n",
    "y_test_one_hot = np.eye(NUM_LABELS)[y_test]"
   ]
  },
  {
   "cell_type": "code",
   "execution_count": 18,
   "metadata": {},
   "outputs": [],
   "source": [
    "X_train_ = np.expand_dims(X_train, axis=3)\n",
    "X_test_ = np.expand_dims(X_test, axis=3)"
   ]
  },
  {
   "cell_type": "code",
   "execution_count": 20,
   "metadata": {},
   "outputs": [
    {
     "name": "stdout",
     "output_type": "stream",
     "text": [
      "(16672,) (4160,)\n"
     ]
    }
   ],
   "source": [
    "train_trailing_samples = X_train_.shape[0] % BATCH_SIZE\n",
    "test_trailing_samples = X_test_.shape[0] % BATCH_SIZE\n",
    "\n",
    "if train_trailing_samples != 0:\n",
    "    X_train_ = X_train_[0:-train_trailing_samples]\n",
    "    y_train_one_hot = y_train_one_hot[0:-train_trailing_samples]\n",
    "    y_train = y_train[0:-train_trailing_samples]\n",
    "if test_trailing_samples != 0:\n",
    "    X_test_ = X_test_[0:-test_trailing_samples]\n",
    "    y_test_one_hot = y_test_one_hot[0:-test_trailing_samples]\n",
    "    y_test = y_test[0:-test_trailing_samples]\n",
    "\n",
    "print(y_train.shape, y_test.shape)"
   ]
  },
  {
   "cell_type": "code",
   "execution_count": 21,
   "metadata": {},
   "outputs": [
    {
     "name": "stdout",
     "output_type": "stream",
     "text": [
      "WARNING:tensorflow:From C:\\Users\\quinb\\AppData\\Local\\Packages\\PythonSoftwareFoundation.Python.3.11_qbz5n2kfra8p0\\LocalCache\\local-packages\\Python311\\site-packages\\keras\\src\\backend\\tensorflow\\core.py:184: The name tf.placeholder is deprecated. Please use tf.compat.v1.placeholder instead.\n",
      "\n"
     ]
    },
    {
     "data": {
      "text/html": [
       "<pre style=\"white-space:pre;overflow-x:auto;line-height:normal;font-family:Menlo,'DejaVu Sans Mono',consolas,'Courier New',monospace\"><span style=\"font-weight: bold\">Model: \"functional_1\"</span>\n",
       "</pre>\n"
      ],
      "text/plain": [
       "\u001b[1mModel: \"functional_1\"\u001b[0m\n"
      ]
     },
     "metadata": {},
     "output_type": "display_data"
    },
    {
     "data": {
      "text/html": [
       "<pre style=\"white-space:pre;overflow-x:auto;line-height:normal;font-family:Menlo,'DejaVu Sans Mono',consolas,'Courier New',monospace\">┏━━━━━━━━━━━━━━━━━━━━━━━━━━━━━━━━━┳━━━━━━━━━━━━━━━━━━━━━━━━┳━━━━━━━━━━━━━━━┓\n",
       "┃<span style=\"font-weight: bold\"> Layer (type)                    </span>┃<span style=\"font-weight: bold\"> Output Shape           </span>┃<span style=\"font-weight: bold\">       Param # </span>┃\n",
       "┡━━━━━━━━━━━━━━━━━━━━━━━━━━━━━━━━━╇━━━━━━━━━━━━━━━━━━━━━━━━╇━━━━━━━━━━━━━━━┩\n",
       "│ rnn_inputs (<span style=\"color: #0087ff; text-decoration-color: #0087ff\">InputLayer</span>)         │ (<span style=\"color: #00af00; text-decoration-color: #00af00\">16</span>, <span style=\"color: #00af00; text-decoration-color: #00af00\">100</span>, <span style=\"color: #00af00; text-decoration-color: #00af00\">3</span>, <span style=\"color: #00af00; text-decoration-color: #00af00\">1</span>)        │             <span style=\"color: #00af00; text-decoration-color: #00af00\">0</span> │\n",
       "├─────────────────────────────────┼────────────────────────┼───────────────┤\n",
       "│ conv2d (<span style=\"color: #0087ff; text-decoration-color: #0087ff\">Conv2D</span>)                 │ (<span style=\"color: #00af00; text-decoration-color: #00af00\">16</span>, <span style=\"color: #00af00; text-decoration-color: #00af00\">100</span>, <span style=\"color: #00af00; text-decoration-color: #00af00\">1</span>, <span style=\"color: #00af00; text-decoration-color: #00af00\">3</span>)        │            <span style=\"color: #00af00; text-decoration-color: #00af00\">12</span> │\n",
       "├─────────────────────────────────┼────────────────────────┼───────────────┤\n",
       "│ lambda (<span style=\"color: #0087ff; text-decoration-color: #0087ff\">Lambda</span>)                 │ (<span style=\"color: #00af00; text-decoration-color: #00af00\">16</span>, <span style=\"color: #00af00; text-decoration-color: #00af00\">100</span>, <span style=\"color: #00af00; text-decoration-color: #00af00\">3</span>)           │             <span style=\"color: #00af00; text-decoration-color: #00af00\">0</span> │\n",
       "├─────────────────────────────────┼────────────────────────┼───────────────┤\n",
       "│ lstm (<span style=\"color: #0087ff; text-decoration-color: #0087ff\">LSTM</span>)                     │ (<span style=\"color: #00af00; text-decoration-color: #00af00\">16</span>, <span style=\"color: #00af00; text-decoration-color: #00af00\">32</span>)               │         <span style=\"color: #00af00; text-decoration-color: #00af00\">4,608</span> │\n",
       "├─────────────────────────────────┼────────────────────────┼───────────────┤\n",
       "│ dropout (<span style=\"color: #0087ff; text-decoration-color: #0087ff\">Dropout</span>)               │ (<span style=\"color: #00af00; text-decoration-color: #00af00\">16</span>, <span style=\"color: #00af00; text-decoration-color: #00af00\">32</span>)               │             <span style=\"color: #00af00; text-decoration-color: #00af00\">0</span> │\n",
       "├─────────────────────────────────┼────────────────────────┼───────────────┤\n",
       "│ dense (<span style=\"color: #0087ff; text-decoration-color: #0087ff\">Dense</span>)                   │ (<span style=\"color: #00af00; text-decoration-color: #00af00\">16</span>, <span style=\"color: #00af00; text-decoration-color: #00af00\">6</span>)                │           <span style=\"color: #00af00; text-decoration-color: #00af00\">198</span> │\n",
       "└─────────────────────────────────┴────────────────────────┴───────────────┘\n",
       "</pre>\n"
      ],
      "text/plain": [
       "┏━━━━━━━━━━━━━━━━━━━━━━━━━━━━━━━━━┳━━━━━━━━━━━━━━━━━━━━━━━━┳━━━━━━━━━━━━━━━┓\n",
       "┃\u001b[1m \u001b[0m\u001b[1mLayer (type)                   \u001b[0m\u001b[1m \u001b[0m┃\u001b[1m \u001b[0m\u001b[1mOutput Shape          \u001b[0m\u001b[1m \u001b[0m┃\u001b[1m \u001b[0m\u001b[1m      Param #\u001b[0m\u001b[1m \u001b[0m┃\n",
       "┡━━━━━━━━━━━━━━━━━━━━━━━━━━━━━━━━━╇━━━━━━━━━━━━━━━━━━━━━━━━╇━━━━━━━━━━━━━━━┩\n",
       "│ rnn_inputs (\u001b[38;5;33mInputLayer\u001b[0m)         │ (\u001b[38;5;34m16\u001b[0m, \u001b[38;5;34m100\u001b[0m, \u001b[38;5;34m3\u001b[0m, \u001b[38;5;34m1\u001b[0m)        │             \u001b[38;5;34m0\u001b[0m │\n",
       "├─────────────────────────────────┼────────────────────────┼───────────────┤\n",
       "│ conv2d (\u001b[38;5;33mConv2D\u001b[0m)                 │ (\u001b[38;5;34m16\u001b[0m, \u001b[38;5;34m100\u001b[0m, \u001b[38;5;34m1\u001b[0m, \u001b[38;5;34m3\u001b[0m)        │            \u001b[38;5;34m12\u001b[0m │\n",
       "├─────────────────────────────────┼────────────────────────┼───────────────┤\n",
       "│ lambda (\u001b[38;5;33mLambda\u001b[0m)                 │ (\u001b[38;5;34m16\u001b[0m, \u001b[38;5;34m100\u001b[0m, \u001b[38;5;34m3\u001b[0m)           │             \u001b[38;5;34m0\u001b[0m │\n",
       "├─────────────────────────────────┼────────────────────────┼───────────────┤\n",
       "│ lstm (\u001b[38;5;33mLSTM\u001b[0m)                     │ (\u001b[38;5;34m16\u001b[0m, \u001b[38;5;34m32\u001b[0m)               │         \u001b[38;5;34m4,608\u001b[0m │\n",
       "├─────────────────────────────────┼────────────────────────┼───────────────┤\n",
       "│ dropout (\u001b[38;5;33mDropout\u001b[0m)               │ (\u001b[38;5;34m16\u001b[0m, \u001b[38;5;34m32\u001b[0m)               │             \u001b[38;5;34m0\u001b[0m │\n",
       "├─────────────────────────────────┼────────────────────────┼───────────────┤\n",
       "│ dense (\u001b[38;5;33mDense\u001b[0m)                   │ (\u001b[38;5;34m16\u001b[0m, \u001b[38;5;34m6\u001b[0m)                │           \u001b[38;5;34m198\u001b[0m │\n",
       "└─────────────────────────────────┴────────────────────────┴───────────────┘\n"
      ]
     },
     "metadata": {},
     "output_type": "display_data"
    },
    {
     "data": {
      "text/html": [
       "<pre style=\"white-space:pre;overflow-x:auto;line-height:normal;font-family:Menlo,'DejaVu Sans Mono',consolas,'Courier New',monospace\"><span style=\"font-weight: bold\"> Total params: </span><span style=\"color: #00af00; text-decoration-color: #00af00\">4,818</span> (18.82 KB)\n",
       "</pre>\n"
      ],
      "text/plain": [
       "\u001b[1m Total params: \u001b[0m\u001b[38;5;34m4,818\u001b[0m (18.82 KB)\n"
      ]
     },
     "metadata": {},
     "output_type": "display_data"
    },
    {
     "data": {
      "text/html": [
       "<pre style=\"white-space:pre;overflow-x:auto;line-height:normal;font-family:Menlo,'DejaVu Sans Mono',consolas,'Courier New',monospace\"><span style=\"font-weight: bold\"> Trainable params: </span><span style=\"color: #00af00; text-decoration-color: #00af00\">4,818</span> (18.82 KB)\n",
       "</pre>\n"
      ],
      "text/plain": [
       "\u001b[1m Trainable params: \u001b[0m\u001b[38;5;34m4,818\u001b[0m (18.82 KB)\n"
      ]
     },
     "metadata": {},
     "output_type": "display_data"
    },
    {
     "data": {
      "text/html": [
       "<pre style=\"white-space:pre;overflow-x:auto;line-height:normal;font-family:Menlo,'DejaVu Sans Mono',consolas,'Courier New',monospace\"><span style=\"font-weight: bold\"> Non-trainable params: </span><span style=\"color: #00af00; text-decoration-color: #00af00\">0</span> (0.00 B)\n",
       "</pre>\n"
      ],
      "text/plain": [
       "\u001b[1m Non-trainable params: \u001b[0m\u001b[38;5;34m0\u001b[0m (0.00 B)\n"
      ]
     },
     "metadata": {},
     "output_type": "display_data"
    },
    {
     "name": "stdout",
     "output_type": "stream",
     "text": [
      "None\n"
     ]
    }
   ],
   "source": [
    "rnn_model = model(x_train=X_train_, num_labels=NUM_LABELS, LSTM_units=LSTM_UNITS, dropout=DROPOUT, num_conv_filters=CNN_FILTERS, batch_size=BATCH_SIZE)"
   ]
  },
  {
   "cell_type": "code",
   "execution_count": null,
   "metadata": {},
   "outputs": [],
   "source": []
  }
 ],
 "metadata": {
  "kernelspec": {
   "display_name": "Python 3",
   "language": "python",
   "name": "python3"
  },
  "language_info": {
   "codemirror_mode": {
    "name": "ipython",
    "version": 3
   },
   "file_extension": ".py",
   "mimetype": "text/x-python",
   "name": "python",
   "nbconvert_exporter": "python",
   "pygments_lexer": "ipython3",
   "version": "3.11.9"
  }
 },
 "nbformat": 4,
 "nbformat_minor": 2
}
